{
  "nbformat": 4,
  "nbformat_minor": 0,
  "metadata": {
    "colab": {
      "provenance": [],
      "authorship_tag": "ABX9TyOO65NzB7SHZR75fntUDwxk",
      "include_colab_link": true
    },
    "kernelspec": {
      "name": "python3",
      "display_name": "Python 3"
    },
    "language_info": {
      "name": "python"
    }
  },
  "cells": [
    {
      "cell_type": "markdown",
      "metadata": {
        "id": "view-in-github",
        "colab_type": "text"
      },
      "source": [
        "<a href=\"https://colab.research.google.com/github/fabiorobertolocutor/fabiotrabalhoalg/blob/main/ENG_DE_REQUISITOS_03_06_24.ipynb\" target=\"_parent\"><img src=\"https://colab.research.google.com/assets/colab-badge.svg\" alt=\"Open In Colab\"/></a>"
      ]
    },
    {
      "cell_type": "code",
      "execution_count": 3,
      "metadata": {
        "id": "GdnrWmnFKXrr"
      },
      "outputs": [],
      "source": [
        "### exemplos dos algoritmos dados na aula de requisitos 03-06-24\n",
        "### Selection Sort (ordenação por seleção): Este algoritmo divide a lista em duas partes: a parte ordenada e a parte não ordenada. Inicialmente, a parte ordenada está vazia e a parte não ordenada é a lista completa. O algoritmo busca o menor elemento da parte não ordenada e o troca com o primeiro elemento da parte não ordenada.\n",
        "\n",
        "def selection_sort(lista):\n",
        "    for i in range(len(lista)):\n",
        "        min_idx = i\n",
        "        for j in range(i+1, len(lista)):\n",
        "            if lista[min_idx] > lista[j]:\n",
        "                min_idx = j\n",
        "        lista[i], lista[min_idx] = lista[min_idx], lista[i]\n",
        "    return lista\n",
        ""
      ]
    },
    {
      "cell_type": "markdown",
      "source": [
        "Bubble Sort: Este algoritmo compara pares de elementos adjacentes e os troca se estiverem fora de ordem. Este processo é repetido até que a lista esteja ordenada"
      ],
      "metadata": {
        "id": "kQip6ABiL2pb"
      }
    },
    {
      "cell_type": "code",
      "source": [
        "def bubble_sort(lista):\n",
        "    n = len(lista)\n",
        "    for i in range(n):\n",
        "        for j in range(0, n-i-1):\n",
        "            if lista[j] > lista[j+1]:\n",
        "                lista[j], lista[j+1] = lista[j+1], lista[j]\n",
        "    return lista\n"
      ],
      "metadata": {
        "id": "m7ytyubEL-GY"
      },
      "execution_count": 4,
      "outputs": []
    },
    {
      "cell_type": "markdown",
      "source": [
        "Insertion Sort (ordenação por inserção): Este algoritmo divide a lista em uma parte ordenada e uma parte não ordenada. Ele pega cada elemento da parte não ordenada e o insere na posição correta na parte ordenada"
      ],
      "metadata": {
        "id": "puPpUFSIMLxT"
      }
    },
    {
      "cell_type": "code",
      "source": [
        "def insertion_sort(lista):\n",
        "    for i in range(1, len(lista)):\n",
        "        chave = lista[i]\n",
        "        j = i-1\n",
        "        while j >= 0 and chave < lista[j]:\n",
        "            lista[j + 1] = lista[j]\n",
        "            j -= 1\n",
        "        lista[j + 1] = chave\n",
        "    return lista\n"
      ],
      "metadata": {
        "id": "l0-KnYpDMckk"
      },
      "execution_count": 5,
      "outputs": []
    },
    {
      "cell_type": "markdown",
      "source": [
        "Merge Sort (ordenação por intercalação): Este algoritmo divide a lista em duas metades, ordena as duas metades individualmente e depois as mescla. O processo de divisão, ordenação e mesclagem é feito recursivamente"
      ],
      "metadata": {
        "id": "EQOUgVTzMqQi"
      }
    },
    {
      "cell_type": "code",
      "source": [
        "def merge_sort(lista):\n",
        "    if len(lista) > 1:\n",
        "        meio = len(lista) // 2\n",
        "        esquerda = lista[:meio]\n",
        "        direita = lista[meio:]\n",
        "        merge_sort(esquerda)\n",
        "        merge_sort(direita)\n",
        "        i = j = k = 0\n",
        "        while i < len(esquerda) and j < len(direita):\n",
        "            if esquerda[i] < direita[j]:\n",
        "                lista[k] = esquerda[i]\n",
        "                i += 1\n",
        "            else:\n",
        "                lista[k] = direita[j]\n",
        "                j += 1\n",
        "            k += 1\n",
        "        while i < len(esquerda):\n",
        "            lista[k] = esquerda[i]\n",
        "            i += 1\n",
        "            k += 1\n",
        "        while j < len(direita):\n",
        "            lista[k] = direita[j]\n",
        "            j += 1\n",
        "            k += 1\n",
        "    return lista\n"
      ],
      "metadata": {
        "id": "hK-b2UObNOdS"
      },
      "execution_count": 6,
      "outputs": []
    },
    {
      "cell_type": "markdown",
      "source": [
        "Quick Sort (ordenação rápida): Este algoritmo seleciona um ‘pivô’ e divide a lista em duas partes: uma com elementos menores que o pivô e outra com elementos maiores que o pivô. Ele então ordena as duas partes recursivamente"
      ],
      "metadata": {
        "id": "1ZHC1V0bNZan"
      }
    },
    {
      "cell_type": "code",
      "source": [
        "def partition(lista, baixo, alto):\n",
        "    i = (baixo-1)\n",
        "    pivot = lista[alto]\n",
        "    for j in range(baixo, alto):\n",
        "        if lista[j] <= pivot:\n",
        "            i = i+1\n",
        "            lista[i], lista[j] = lista[j], lista[i]\n",
        "    lista[i+1], lista[alto] = lista[alto], lista[i+1]\n",
        "    return (i+1)\n",
        "\n",
        "def quick_sort(lista, baixo, alto):\n",
        "    if len(lista) == 1:\n",
        "        return lista\n",
        "    if baixo < alto:\n",
        "        pi = partition(lista, baixo, alto)\n",
        "        quick_sort(lista, baixo, pi-1)\n",
        "        quick_sort(lista, pi+1, alto)\n"
      ],
      "metadata": {
        "id": "kt19lv4HNoqg"
      },
      "execution_count": 7,
      "outputs": []
    },
    {
      "cell_type": "markdown",
      "source": [
        "Heap Sort: Este algoritmo transforma a lista em uma estrutura de dados chamada ‘heap’, depois remove os maiores elementos do heap um por um e os coloca na lista"
      ],
      "metadata": {
        "id": "JzO4ZkjyN0Z4"
      }
    },
    {
      "cell_type": "code",
      "source": [
        "def heapify(lista, n, i):\n",
        "    maior = i\n",
        "    l = 2 * i + 1\n",
        "    r = 2 * i + 2\n",
        "    if l < n and lista[i] < lista[l]:\n",
        "        maior = l\n",
        "    if r < n and lista[maior] < lista[r]:\n",
        "        maior = r\n",
        "    if maior != i:\n",
        "        lista[i], lista[maior] = lista[maior], lista[i]\n",
        "        heapify(lista, n, maior)\n",
        "\n",
        "def heap_sort(lista):\n",
        "    n = len(lista)\n",
        "    for i in range(n, -1, -1):\n",
        "        heapify(lista, n, i)\n",
        "    for i in range(n-1, 0, -1):\n",
        "        lista[i], lista[0] = lista[0], lista[i]\n",
        "        heapify(lista, i, 0)\n"
      ],
      "metadata": {
        "id": "aCLbGb5vN9h7"
      },
      "execution_count": 8,
      "outputs": []
    },
    {
      "cell_type": "markdown",
      "source": [
        "Counting Sort: Este algoritmo conta o número de ocorrências de cada elemento na lista, depois usa essas contagens para colocar cada elemento em sua posição correta na lista ordenada"
      ],
      "metadata": {
        "id": "HXkufeMCONi5"
      }
    },
    {
      "cell_type": "code",
      "source": [
        "def counting_sort(lista):\n",
        "    max_val = max(lista)\n",
        "    m = max_val + 1\n",
        "    count = [0] * m\n",
        "    for a in lista:\n",
        "        count[a] += 1\n",
        "    i = 0\n",
        "    for a in range(m):\n",
        "        for c in range(count[a]):\n",
        "            lista[i] = a\n",
        "            i += 1\n",
        "    return lista\n"
      ],
      "metadata": {
        "id": "u5Yod4EuOom5"
      },
      "execution_count": 9,
      "outputs": []
    },
    {
      "cell_type": "markdown",
      "source": [
        "Radix Sort: Este algoritmo ordena os elementos processando seus dígitos individuais. Os números inteiros podem representar strings compostas de caracteres ou números de ponto flutuante especialmente formatados"
      ],
      "metadata": {
        "id": "f48kqXr4Oxy7"
      }
    },
    {
      "cell_type": "code",
      "source": [
        "def counting_sort_for_radix(input_array, exp1):\n",
        "    n = len(input_array)\n",
        "    output_array = [0] * n\n",
        "    count_array = [0] * 10\n",
        "    for i in range(0, n):\n",
        "        index = (input_array[i] / exp1)\n",
        "        count_array[int(index % 10)] += 1\n",
        "    for i in range(1, 10):\n",
        "        count_array[i] += count_array[i - 1]\n",
        "    i = n - 1\n",
        "    while i >= 0:\n",
        "        index = (input_array[i] / exp1)\n",
        "        output_array[count_array[int(index % 10)] - 1] = input_array[i]\n",
        "        count_array[int(index % 10)] -= 1\n",
        "        i -= 1\n",
        "    i = 0\n",
        "    for i in range(0, len(input_array)):\n",
        "        input_array[i] = output_array[i]\n",
        "\n",
        "def radix_sort(lista):\n",
        "    max1 = max(lista)\n",
        "    exp = 1\n",
        "    while max1 / exp > 0:\n",
        "        counting_sort_for_radix(lista, exp)\n",
        "        exp *= 10\n"
      ],
      "metadata": {
        "id": "6Ci27vqHO07u"
      },
      "execution_count": 10,
      "outputs": []
    },
    {
      "cell_type": "markdown",
      "source": [
        "Bucket Sort: Este algoritmo divide a lista em um número finito de ‘baldes’ ou ‘caixas’. Cada balde é então ordenado individualmente, seja usando um algoritmo de ordenação diferente, ou usando o algoritmo bucket sort recursivamente"
      ],
      "metadata": {
        "id": "Wdy_8O5EPEb9"
      }
    },
    {
      "cell_type": "code",
      "source": [
        "def insertion_sort_for_bucket(b):\n",
        "    for i in range(1, len(b)):\n",
        "        up = b[i]\n",
        "        j = i - 1\n",
        "        while j >= 0 and b[j] > up:\n",
        "            b[j + 1] = b[j]\n",
        "            j -= 1\n",
        "        b[j + 1] = up\n",
        "    return b\n",
        "\n",
        "def bucket_sort(x):\n",
        "    arr = []\n",
        "    slot_num = 10\n",
        "    for i in range(slot_num):\n",
        "        arr.append([])\n",
        "    for j in x:\n",
        "        index_b = int(slot_num * j)\n",
        "        arr[index_b].append(j)\n",
        "    for i in range(slot_num):\n",
        "        arr[i] = insertion_sort_for_bucket(arr[i])\n",
        "    k = 0\n",
        "    for i in range(slot_num):\n",
        "        for j in range(len(arr[i])):\n",
        "            x[k] = arr[i][j]\n",
        "            k += 1\n",
        "    return x\n"
      ],
      "metadata": {
        "id": "C6sJeNOcPKS5"
      },
      "execution_count": 11,
      "outputs": []
    }
  ]
}